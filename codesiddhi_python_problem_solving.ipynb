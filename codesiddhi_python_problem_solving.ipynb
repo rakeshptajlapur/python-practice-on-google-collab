{
  "cells": [
    {
      "cell_type": "markdown",
      "id": "e90f7467",
      "metadata": {
        "id": "e90f7467"
      },
      "source": [
        "## 🔹 Beginner Level Problems"
      ]
    },
    {
      "cell_type": "markdown",
      "source": [],
      "metadata": {
        "id": "v1Ux_9xAmYuY"
      },
      "id": "v1Ux_9xAmYuY"
    },
    {
      "cell_type": "markdown",
      "id": "c9e1b1d3",
      "metadata": {
        "id": "c9e1b1d3"
      },
      "source": [
        "### Problem 1: Write a program to print 'Hello, World!'"
      ]
    },
    {
      "cell_type": "code",
      "execution_count": null,
      "id": "9341e24a",
      "metadata": {
        "colab": {
          "base_uri": "https://localhost:8080/"
        },
        "id": "9341e24a",
        "outputId": "5fc65204-ef01-47ec-a6b1-f10b22f3187c"
      },
      "outputs": [
        {
          "output_type": "stream",
          "name": "stdout",
          "text": [
            "Hellow,World\n"
          ]
        }
      ],
      "source": [
        "print(\"Hellow,World\")"
      ]
    },
    {
      "cell_type": "markdown",
      "id": "d4e8c7e2",
      "metadata": {
        "id": "d4e8c7e2"
      },
      "source": [
        "### Problem 2: Write a program to take two numbers as input and print their sum.\n",
        "\n",
        "---\n",
        "\n"
      ]
    },
    {
      "cell_type": "code",
      "execution_count": null,
      "id": "1fcd81c2",
      "metadata": {
        "colab": {
          "base_uri": "https://localhost:8080/"
        },
        "id": "1fcd81c2",
        "outputId": "60ed3798-8676-442e-adfe-c0b73ac6f826"
      },
      "outputs": [
        {
          "output_type": "stream",
          "name": "stdout",
          "text": [
            "enter first number3\n",
            "enter the second number23\n",
            "sum of the 2 numbers are  26.0\n"
          ]
        }
      ],
      "source": [
        "number1 = input(\"enter first number\")\n",
        "number2 = input(\"enter the second number\")\n",
        "\n",
        "sum_of_two_num = float(number1)+float(number2)\n",
        "print(\"sum of the 2 numbers are \", sum_of_two_num)\n"
      ]
    },
    {
      "cell_type": "markdown",
      "id": "9defd602",
      "metadata": {
        "id": "9defd602"
      },
      "source": [
        "### Problem 3: Write a program to check if a number is even or odd."
      ]
    },
    {
      "cell_type": "code",
      "execution_count": null,
      "id": "32685dd8",
      "metadata": {
        "colab": {
          "base_uri": "https://localhost:8080/"
        },
        "id": "32685dd8",
        "outputId": "d8ebf68b-6190-478a-ee45-2da48a95cb8f"
      },
      "outputs": [
        {
          "output_type": "stream",
          "name": "stdout",
          "text": [
            "enter the number:99\n",
            "99 is a odd number\n"
          ]
        }
      ],
      "source": [
        "# Write your solution here\n",
        "\n",
        "num_check = int(input(\"enter the number:\"))\n",
        "if num_check%2 == 0:\n",
        "  print(f\"{num_check}, is a even number\")\n",
        "else:\n",
        "  print(f\"{num_check} is a odd number\")\n"
      ]
    },
    {
      "cell_type": "markdown",
      "id": "84a1f679",
      "metadata": {
        "id": "84a1f679"
      },
      "source": [
        "### Problem 4: Write a program to find the largest of three numbers."
      ]
    },
    {
      "cell_type": "code",
      "execution_count": null,
      "id": "e355d202",
      "metadata": {
        "colab": {
          "base_uri": "https://localhost:8080/"
        },
        "id": "e355d202",
        "outputId": "4c136682-5f51-4171-cddf-9cf7797c40eb"
      },
      "outputs": [
        {
          "output_type": "stream",
          "name": "stdout",
          "text": [
            "enter 1st number:7\n",
            "enter 2nd number:77\n",
            "enter 3rd number:777\n",
            "777.0 is the largest number\n"
          ]
        }
      ],
      "source": [
        "# Write your solution here\n",
        "num1 = float(input(\"enter 1st number:\"))\n",
        "num2 = float(input(\"enter 2nd number:\"))\n",
        "num3 = float(input(\"enter 3rd number:\"))\n",
        "\n",
        "compare = [num1, num2, num3]\n",
        "print(f\"{max(compare)} is the largest number\")"
      ]
    },
    {
      "cell_type": "markdown",
      "id": "7321c70d",
      "metadata": {
        "id": "7321c70d"
      },
      "source": [
        "### Problem 5: Write a program to print the first 10 natural numbers using a loop."
      ]
    },
    {
      "cell_type": "code",
      "execution_count": null,
      "id": "f09da90d",
      "metadata": {
        "colab": {
          "base_uri": "https://localhost:8080/"
        },
        "id": "f09da90d",
        "outputId": "3e55e895-a5db-468c-e043-3b2f6267a884"
      },
      "outputs": [
        {
          "output_type": "stream",
          "name": "stdout",
          "text": [
            "1\n",
            "2\n",
            "3\n",
            "4\n",
            "5\n",
            "6\n",
            "7\n",
            "8\n",
            "9\n",
            "10\n"
          ]
        }
      ],
      "source": [
        "# Write your solution here\n",
        "a = 1\n",
        "while a<11:\n",
        "  print(a)\n",
        "  a=a+1"
      ]
    },
    {
      "cell_type": "markdown",
      "id": "f9d06e90",
      "metadata": {
        "id": "f9d06e90"
      },
      "source": [
        "## 🔹 Medium Level Problems"
      ]
    },
    {
      "cell_type": "markdown",
      "id": "aa764b94",
      "metadata": {
        "id": "aa764b94"
      },
      "source": [
        "### Problem 1: Write a function to find the factorial of a number using recursion."
      ]
    },
    {
      "cell_type": "code",
      "execution_count": null,
      "id": "b3ec3fbc",
      "metadata": {
        "id": "b3ec3fbc",
        "colab": {
          "base_uri": "https://localhost:8080/"
        },
        "outputId": "7a8b0e8c-967e-4fda-cb5c-2d896b50dfa4"
      },
      "outputs": [
        {
          "output_type": "stream",
          "name": "stdout",
          "text": [
            "enter the number of your choice:3\n",
            "The factorial of 3 is 6\n"
          ]
        }
      ],
      "source": [
        "def fact(num):\n",
        "  if num==0 or num==1:\n",
        "    return 1\n",
        "  else:\n",
        "    return num*fact(num-1)\n",
        "\n",
        "num = int(input(\"enter the number of your choice:\"))\n",
        "print(f\"The factorial of {num} is {fact(num)}\")"
      ]
    },
    {
      "cell_type": "markdown",
      "id": "11889453",
      "metadata": {
        "id": "11889453"
      },
      "source": [
        "### Problem 2: Write a program to find the sum of digits of a given number."
      ]
    },
    {
      "cell_type": "code",
      "execution_count": 1,
      "id": "10937939",
      "metadata": {
        "id": "10937939",
        "colab": {
          "base_uri": "https://localhost:8080/"
        },
        "outputId": "91838408-c67b-43e9-f72d-36bcaf6c77aa"
      },
      "outputs": [
        {
          "output_type": "stream",
          "name": "stdout",
          "text": [
            "enter the number to calculate its sum of digits:788\n",
            "sum of digits in 788 is total = 23\n"
          ]
        }
      ],
      "source": [
        "# Write your solution here\n",
        "num = int(input(\"enter the number to calculate its sum of digits:\"))\n",
        "\n",
        "num = str(num).strip()\n",
        "num_list = list(num)\n",
        "\n",
        "def calculate_sum():\n",
        "    x = 0\n",
        "    for a in num_list:\n",
        "        x = x + int(a)\n",
        "    return x\n",
        "\n",
        "final_sum = calculate_sum()\n",
        "print(f\"sum of digits in {num} is total = {final_sum}\")\n",
        "\n",
        "\n"
      ]
    },
    {
      "cell_type": "markdown",
      "id": "69dbb745",
      "metadata": {
        "id": "69dbb745"
      },
      "source": [
        "### Problem 3: Write a program to check if a string is a palindrome."
      ]
    },
    {
      "cell_type": "code",
      "execution_count": 3,
      "id": "af04afe5",
      "metadata": {
        "id": "af04afe5",
        "colab": {
          "base_uri": "https://localhost:8080/"
        },
        "outputId": "d3f89218-6a58-4bde-da4e-9e72fc2bc907"
      },
      "outputs": [
        {
          "output_type": "stream",
          "name": "stdout",
          "text": [
            "enter the string : rakesh is rakesh\n",
            "rakesh is rakesh\n",
            "['r', 'a', 'k', 'e', 's', 'h', ' ', 'i', 's', ' ', 'r', 'a', 'k', 'e', 's', 'h']\n",
            "['h', 's', 'e', 'k', 'a', 'r', ' ', 's', 'i', ' ', 'h', 's', 'e', 'k', 'a', 'r']\n",
            "The string is not palindrome\n"
          ]
        }
      ],
      "source": [
        "# Write your solution here\n",
        "#program to check if the string is palindrome\n",
        "#take string from user\n",
        "#clean the symbols with strip()\n",
        "#convert into list split\n",
        "#reverse the list\n",
        "#check if list and reverse list is same\n",
        "\n",
        "user_string = input(str(\"enter the string : \")).strip()\n",
        "print(user_string)\n",
        "normal_list = list(user_string)\n",
        "handshake_list = normal_list.copy()\n",
        "print(normal_list)\n",
        "\n",
        "handshake_list.reverse()\n",
        "reverse_list = handshake_list\n",
        "print(reverse_list)\n",
        "\n",
        "if normal_list == reverse_list:\n",
        "    print(\"The string is palindrome\")\n",
        "\n",
        "else:\n",
        "    print( \"The string is not palindrome\")\n",
        "\n"
      ]
    },
    {
      "cell_type": "markdown",
      "id": "4f297757",
      "metadata": {
        "id": "4f297757"
      },
      "source": [
        "### Problem 4: Write a function that reverses a list without using the built-in reverse function."
      ]
    },
    {
      "cell_type": "code",
      "execution_count": 4,
      "id": "ffc6d013",
      "metadata": {
        "id": "ffc6d013",
        "colab": {
          "base_uri": "https://localhost:8080/"
        },
        "outputId": "4544fbdc-79a6-4982-deb8-90f6b0178c47"
      },
      "outputs": [
        {
          "output_type": "stream",
          "name": "stdout",
          "text": [
            "[5, 4, 3, 2, 1]\n"
          ]
        }
      ],
      "source": [
        "# Write your solution here\n",
        "\n",
        "my_list = [1,2,3,4,5]\n",
        "def reverse_list():\n",
        "  reversed_list = my_list[::-1]\n",
        "  return reversed_list\n",
        "\n",
        "print(reverse_list())\n",
        "\n"
      ]
    },
    {
      "cell_type": "markdown",
      "id": "5e7fa44d",
      "metadata": {
        "id": "5e7fa44d"
      },
      "source": [
        "### Problem 5: Write a program to find the second largest element in a list."
      ]
    },
    {
      "cell_type": "code",
      "execution_count": 5,
      "id": "f98b26cd",
      "metadata": {
        "id": "f98b26cd",
        "colab": {
          "base_uri": "https://localhost:8080/"
        },
        "outputId": "132c6d95-5c75-4912-ceba-1189c0a351ae"
      },
      "outputs": [
        {
          "output_type": "stream",
          "name": "stdout",
          "text": [
            "6\n"
          ]
        }
      ],
      "source": [
        "# Write your solution here\n",
        "#program to find second largest element in the list\n",
        "\n",
        "my_list = [1,2,3,4,5,6,7]\n",
        "my_list.sort(reverse=True)\n",
        "print(my_list[1])\n"
      ]
    },
    {
      "cell_type": "markdown",
      "id": "dcf0d488",
      "metadata": {
        "id": "dcf0d488"
      },
      "source": [
        "## 🔹 Complex Level Problems"
      ]
    },
    {
      "cell_type": "markdown",
      "id": "3d964dd6",
      "metadata": {
        "id": "3d964dd6"
      },
      "source": [
        "### Problem 1: Implement a class `Rectangle` with attributes `width` and `height` and a method to calculate area."
      ]
    },
    {
      "cell_type": "code",
      "execution_count": 6,
      "id": "2d652625",
      "metadata": {
        "id": "2d652625",
        "colab": {
          "base_uri": "https://localhost:8080/"
        },
        "outputId": "109f608c-66d4-4011-de15-51a0215404a3"
      },
      "outputs": [
        {
          "output_type": "stream",
          "name": "stdout",
          "text": [
            "18\n"
          ]
        }
      ],
      "source": [
        "class Rectangle:\n",
        "    def __init__(self,x,y):\n",
        "        self.width = x\n",
        "        self.height = y\n",
        "\n",
        "\n",
        "    def area_of_rect(self):\n",
        "        return self.width*self.height\n",
        "\n",
        "my_rect = Rectangle(3,6)\n",
        "print(my_rect.area_of_rect())"
      ]
    },
    {
      "cell_type": "markdown",
      "id": "61400326",
      "metadata": {
        "id": "61400326"
      },
      "source": [
        "### Problem 2: Write a function that returns the Fibonacci sequence up to `n` terms using a generator."
      ]
    },
    {
      "cell_type": "code",
      "execution_count": 7,
      "id": "ac41a888",
      "metadata": {
        "id": "ac41a888",
        "colab": {
          "base_uri": "https://localhost:8080/"
        },
        "outputId": "9d23038a-33c0-469c-fa29-b6ef65800a46"
      },
      "outputs": [
        {
          "output_type": "stream",
          "name": "stdout",
          "text": [
            "0\n",
            "1\n",
            "1\n",
            "2\n",
            "3\n",
            "5\n",
            "8\n"
          ]
        }
      ],
      "source": [
        "# Write your solution here\n",
        "def gen_fibo():\n",
        "    a = 0\n",
        "    b = 1\n",
        "    while True:\n",
        "        yield a\n",
        "        a,b = b,a+b\n",
        "\n",
        "\n",
        "fibo = gen_fibo()\n",
        "print(next(fibo))\n",
        "print(next(fibo))\n",
        "print(next(fibo))\n",
        "print(next(fibo))\n",
        "print(next(fibo))\n",
        "print(next(fibo))\n",
        "print(next(fibo))\n"
      ]
    },
    {
      "cell_type": "markdown",
      "id": "2ca944e3",
      "metadata": {
        "id": "2ca944e3"
      },
      "source": [
        "### Problem 3: Create a function that finds the longest word in a given text file."
      ]
    },
    {
      "cell_type": "code",
      "execution_count": 8,
      "id": "57ae2e4b",
      "metadata": {
        "id": "57ae2e4b",
        "colab": {
          "base_uri": "https://localhost:8080/"
        },
        "outputId": "e334e027-221a-4798-87fb-05b913e49e06"
      },
      "outputs": [
        {
          "output_type": "stream",
          "name": "stdout",
          "text": [
            "rakesh\n"
          ]
        }
      ],
      "source": [
        "# Write your solution here\n",
        "mysentence = \"my name is rakesh kumar\"\n",
        "mylist=mysentence.split()\n",
        "mylist.sort(key=len)\n",
        "\n",
        "print(mylist[-1])"
      ]
    },
    {
      "cell_type": "markdown",
      "id": "f963461b",
      "metadata": {
        "id": "f963461b"
      },
      "source": [
        "### Problem 4: Write a program to implement a simple calculator using functions."
      ]
    },
    {
      "cell_type": "code",
      "execution_count": null,
      "id": "8b39b033",
      "metadata": {
        "id": "8b39b033"
      },
      "outputs": [],
      "source": [
        "# Write your solution here\n",
        "\n",
        "first_num = int(input(\"enter 1st number : \"))\n",
        "second_num = int(input(\"enter the 2nd number : \"))\n",
        "\n",
        "action = input(\"enter what you want to do +, -, /, * : \")\n",
        "\n",
        "if action == \"+\":\n",
        "    print ( first_num + second_num)\n",
        "elif action == \"-\":\n",
        "    print(first_num - second_num)\n",
        "elif action == \"*\":\n",
        "    print(first_num * second_num)\n",
        "elif action == \"%\":\n",
        "    print(first_num % second_num)\n",
        "else:\n",
        "    print(\"type the correct action\")\n"
      ]
    },
    {
      "cell_type": "markdown",
      "id": "f5571c68",
      "metadata": {
        "id": "f5571c68"
      },
      "source": [
        "### Problem 5: Implement a Python decorator to measure the execution time of a function."
      ]
    },
    {
      "cell_type": "code",
      "execution_count": null,
      "id": "1050afb7",
      "metadata": {
        "id": "1050afb7"
      },
      "outputs": [],
      "source": [
        "# Write your solution here\n",
        "import time\n",
        "\n",
        "def calc_exectime(x):\n",
        "    def wrapper(*args, **kwargs):\n",
        "        start=time.time()\n",
        "        result = x(*args, **kwargs)\n",
        "        end=time.time()\n",
        "        print(f\" Function execution time is {end - start}\")\n",
        "        return result\n",
        "    return wrapper\n",
        "\n",
        "\n",
        "@calc_exectime\n",
        "def myfunction():\n",
        "    time.sleep(5)\n",
        "    print(\"My name is rakesh after 5 sec\")\n",
        "\n",
        "\n",
        "myfunction()\n"
      ]
    },
    {
      "cell_type": "markdown",
      "id": "86dc6e3e",
      "metadata": {
        "id": "86dc6e3e"
      },
      "source": [
        "## 🔹 Advanced Level Problems"
      ]
    },
    {
      "cell_type": "markdown",
      "id": "7536b51c",
      "metadata": {
        "id": "7536b51c"
      },
      "source": [
        "### Problem 1: Write a program to implement a min heap using Python’s heapq module."
      ]
    },
    {
      "cell_type": "code",
      "execution_count": null,
      "id": "2b1e1ef5",
      "metadata": {
        "id": "2b1e1ef5"
      },
      "outputs": [],
      "source": [
        "# Write your solution here\n"
      ]
    },
    {
      "cell_type": "markdown",
      "id": "6c5e3cbd",
      "metadata": {
        "id": "6c5e3cbd"
      },
      "source": [
        "### Problem 2: Implement a simple LRU (Least Recently Used) cache."
      ]
    },
    {
      "cell_type": "code",
      "execution_count": null,
      "id": "a16868a3",
      "metadata": {
        "id": "a16868a3"
      },
      "outputs": [],
      "source": [
        "# Write your solution here\n"
      ]
    },
    {
      "cell_type": "markdown",
      "id": "d7505a7a",
      "metadata": {
        "id": "d7505a7a"
      },
      "source": [
        "### Problem 3: Write a function that finds the shortest path in a graph using Dijkstra’s algorithm."
      ]
    },
    {
      "cell_type": "code",
      "execution_count": null,
      "id": "b6ddeb25",
      "metadata": {
        "id": "b6ddeb25"
      },
      "outputs": [],
      "source": [
        "# Write your solution here\n"
      ]
    },
    {
      "cell_type": "markdown",
      "id": "0b28672f",
      "metadata": {
        "id": "0b28672f"
      },
      "source": [
        "### Problem 4: Write a function that implements merge sort."
      ]
    },
    {
      "cell_type": "code",
      "execution_count": null,
      "id": "841e3431",
      "metadata": {
        "id": "841e3431"
      },
      "outputs": [],
      "source": [
        "# Write your solution here\n"
      ]
    },
    {
      "cell_type": "markdown",
      "id": "e806bf7b",
      "metadata": {
        "id": "e806bf7b"
      },
      "source": [
        "### Problem 5: Implement a Trie (Prefix Tree) for searching words efficiently."
      ]
    },
    {
      "cell_type": "code",
      "execution_count": null,
      "id": "25d8c8bb",
      "metadata": {
        "id": "25d8c8bb"
      },
      "outputs": [],
      "source": [
        "# Write your solution here\n"
      ]
    }
  ],
  "metadata": {
    "colab": {
      "provenance": [],
      "collapsed_sections": [
        "f9d06e90"
      ]
    },
    "language_info": {
      "name": "python"
    },
    "kernelspec": {
      "name": "python3",
      "display_name": "Python 3"
    }
  },
  "nbformat": 4,
  "nbformat_minor": 5
}